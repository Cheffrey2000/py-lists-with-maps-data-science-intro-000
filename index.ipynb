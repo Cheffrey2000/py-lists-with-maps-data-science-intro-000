{
 "cells": [
  {
   "cell_type": "markdown",
   "metadata": {
    "collapsed": true
   },
   "source": [
    "# Lists and Maps Lab"
   ]
  },
  {
   "cell_type": "markdown",
   "metadata": {},
   "source": [
    "### Introduction"
   ]
  },
  {
   "cell_type": "markdown",
   "metadata": {},
   "source": [
    "Ok, so now that we have a sense of how to read from a list and alter a list in Python, let's see how our knowledge of lists can help us in creating data visualizations by plotting maps. "
   ]
  },
  {
   "cell_type": "markdown",
   "metadata": {},
   "source": [
    "### Working with lists and maps"
   ]
  },
  {
   "cell_type": "markdown",
   "metadata": {},
   "source": [
    "As we know, lists are used to store a collection of data.  In describing a city, we can use lists to organize our data in all sorts of ways.  For example, here is a list of neighborhoods in the city of Buenos Aires."
   ]
  },
  {
   "cell_type": "code",
   "execution_count": 1,
   "metadata": {},
   "outputs": [],
   "source": [
    "neighborhoods = ['Palermo', 'Ricoleta', 'Santelmo', 'Puerto Madero', 'Belgrano', 'La Boca']"
   ]
  },
  {
   "cell_type": "markdown",
   "metadata": {},
   "source": [
    "> Press shift + enter on this cell and all following code cells."
   ]
  },
  {
   "cell_type": "markdown",
   "metadata": {},
   "source": [
    "Assign the variable `palermo` to the first element of the `neighborhoods` list."
   ]
  },
  {
   "cell_type": "code",
   "execution_count": 2,
   "metadata": {},
   "outputs": [
    {
     "data": {
      "text/plain": [
       "['Palermo', 'Ricoleta', 'Santelmo', 'Puerto Madero', 'Belgrano', 'La Boca']"
      ]
     },
     "execution_count": 2,
     "metadata": {},
     "output_type": "execute_result"
    }
   ],
   "source": [
    "palermo = neighborhoods[1]\n",
    "neighborhoods"
   ]
  },
  {
   "cell_type": "markdown",
   "metadata": {},
   "source": [
    "Now assign the variable `la_boca` to the last element of our list."
   ]
  },
  {
   "cell_type": "code",
   "execution_count": 3,
   "metadata": {},
   "outputs": [
    {
     "data": {
      "text/plain": [
       "['Palermo',\n",
       " 'Ricoleta',\n",
       " 'Santelmo',\n",
       " 'Puerto Madero',\n",
       " 'Belgrano',\n",
       " 'La Boca',\n",
       " 'la_boca']"
      ]
     },
     "execution_count": 3,
     "metadata": {},
     "output_type": "execute_result"
    }
   ],
   "source": [
    "neighborhoods.append('la_boca')\n",
    "neighborhoods"
   ]
  },
  {
   "cell_type": "markdown",
   "metadata": {},
   "source": [
    "Beyond the neighborhoods, another thing that we can think of representing as a collection are the coordinates of a city, latitude and longitude.  Below, our `coordinates` list contains the coordinates for Buenos Aires.  The first element is latitude and the second is longitude."
   ]
  },
  {
   "cell_type": "code",
   "execution_count": 4,
   "metadata": {},
   "outputs": [
    {
     "data": {
      "text/plain": [
       "[-34.6037, -58.3816]"
      ]
     },
     "execution_count": 4,
     "metadata": {},
     "output_type": "execute_result"
    }
   ],
   "source": [
    "coordinates = [-34.6037, -58.3816]\n",
    "coordinates"
   ]
  },
  {
   "cell_type": "markdown",
   "metadata": {},
   "source": [
    "Set `ba_latitude` to equal the latitude of Buenos Aires and set `ba_longitude` to the longitude of Buenos Aires."
   ]
  },
  {
   "cell_type": "code",
   "execution_count": 5,
   "metadata": {},
   "outputs": [
    {
     "data": {
      "text/plain": [
       "-34.6037"
      ]
     },
     "execution_count": 5,
     "metadata": {},
     "output_type": "execute_result"
    }
   ],
   "source": [
    "ba_latitude = -34.6037\n",
    "ba_latitude"
   ]
  },
  {
   "cell_type": "code",
   "execution_count": 6,
   "metadata": {},
   "outputs": [
    {
     "data": {
      "text/plain": [
       "-58.3816"
      ]
     },
     "execution_count": 6,
     "metadata": {},
     "output_type": "execute_result"
    }
   ],
   "source": [
    "ba_longitude = -58.3816\n",
    "ba_longitude"
   ]
  },
  {
   "cell_type": "markdown",
   "metadata": {},
   "source": [
    "Now let's see if we can display this as a map."
   ]
  },
  {
   "cell_type": "markdown",
   "metadata": {},
   "source": [
    "First we download a mapping library with `pip`. Remember a library is simply a tool comprised of code hosted somewhere else on the internet and which we download to use in our current project. Pip is another tool that allows us to easily download various Python libraries from the Internet.  "
   ]
  },
  {
   "cell_type": "code",
   "execution_count": 7,
   "metadata": {},
   "outputs": [],
   "source": [
    "import folium"
   ]
  },
  {
   "cell_type": "markdown",
   "metadata": {},
   "source": [
    "Press shift + enter on the above code, and our `folium` library is available to us.  Now we just tell Python that we will be using `folium` in our codebase by writing `import folium` in the next cell. Once the import is complete we will be able to display some maps with the help of `folium`."
   ]
  },
  {
   "cell_type": "code",
   "execution_count": 8,
   "metadata": {},
   "outputs": [
    {
     "data": {
      "text/html": [
       "<div style=\"width:100%;\"><div style=\"position:relative;width:100%;height:0;padding-bottom:60%;\"><iframe src=\"data:text/html;charset=utf-8;base64,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\" style=\"position:absolute;width:100%;height:100%;left:0;top:0;border:none !important;\" allowfullscreen webkitallowfullscreen mozallowfullscreen></iframe></div></div>"
      ],
      "text/plain": [
       "<folium.folium.Map at 0x7fd07c50b780>"
      ]
     },
     "execution_count": 8,
     "metadata": {},
     "output_type": "execute_result"
    }
   ],
   "source": [
    "import folium\n",
    "buenos_map = folium.Map([ba_latitude, ba_longitude])\n",
    "buenos_map"
   ]
  },
  {
   "cell_type": "markdown",
   "metadata": {},
   "source": [
    "All of that from a couple of lines of code.  Let's understand it:\n",
    "\n",
    "```python\n",
    "import folium\n",
    "buenos_map = folium.Map([ba_latitude, ba_longitude])\n",
    "buenos_map\n",
    "```"
   ]
  },
  {
   "cell_type": "markdown",
   "metadata": {},
   "source": [
    "> [Folium](https://github.com/python-visualization/folium) is a mapping library built on Python.  We created a representation of a map, by referencing the `folium.Map` function and passing through a list.  That list represents the latitude and longitude, just like we saw previously.  The map object is stored as the variable `buenos`.  Since `buenos_map` is the last line of a cell, the map is displayed."
   ]
  },
  {
   "cell_type": "markdown",
   "metadata": {},
   "source": [
    "Now we can also add a marker to this map.  For now, let's start by adding a marker for our Buenos Aires coordinates."
   ]
  },
  {
   "cell_type": "code",
   "execution_count": 9,
   "metadata": {
    "scrolled": true
   },
   "outputs": [
    {
     "data": {
      "text/plain": [
       "<folium.map.Marker at 0x7fd07c50b080>"
      ]
     },
     "execution_count": 9,
     "metadata": {},
     "output_type": "execute_result"
    }
   ],
   "source": [
    "buenos_marker = folium.Marker([ba_latitude, ba_longitude])\n",
    "buenos_marker.add_to(buenos_map)"
   ]
  },
  {
   "cell_type": "markdown",
   "metadata": {},
   "source": [
    "So we used the `folium` library to create a marker.  We specified the coordinates of the marker as a list. Finally, we added the marker to our map with the `add_to` function."
   ]
  },
  {
   "cell_type": "markdown",
   "metadata": {},
   "source": [
    "Let's see our updated map!  We see our map by referencing our `buenos_map` variable."
   ]
  },
  {
   "cell_type": "code",
   "execution_count": 10,
   "metadata": {},
   "outputs": [
    {
     "data": {
      "text/html": [
       "<div style=\"width:100%;\"><div style=\"position:relative;width:100%;height:0;padding-bottom:60%;\"><iframe src=\"data:text/html;charset=utf-8;base64,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\" style=\"position:absolute;width:100%;height:100%;left:0;top:0;border:none !important;\" allowfullscreen webkitallowfullscreen mozallowfullscreen></iframe></div></div>"
      ],
      "text/plain": [
       "<folium.folium.Map at 0x7fd07c50b780>"
      ]
     },
     "execution_count": 10,
     "metadata": {},
     "output_type": "execute_result"
    }
   ],
   "source": [
    "buenos_map"
   ]
  },
  {
   "cell_type": "markdown",
   "metadata": {},
   "source": [
    "Great! Note that both the map object and the map marker are just stored as variables."
   ]
  },
  {
   "cell_type": "code",
   "execution_count": 11,
   "metadata": {},
   "outputs": [
    {
     "data": {
      "text/plain": [
       "<folium.map.Marker at 0x7fd07c50b080>"
      ]
     },
     "execution_count": 11,
     "metadata": {},
     "output_type": "execute_result"
    }
   ],
   "source": [
    "buenos_marker"
   ]
  },
  {
   "cell_type": "markdown",
   "metadata": {},
   "source": [
    "And just like any other piece of\n",
    "data in Python, we can place this marker in a list, and then retrieve it from the list."
   ]
  },
  {
   "cell_type": "code",
   "execution_count": 12,
   "metadata": {},
   "outputs": [],
   "source": [
    "buenos_markers = [buenos_marker]"
   ]
  },
  {
   "cell_type": "code",
   "execution_count": 13,
   "metadata": {},
   "outputs": [
    {
     "data": {
      "text/plain": [
       "<folium.map.Marker at 0x7fd07c50b080>"
      ]
     },
     "execution_count": 13,
     "metadata": {},
     "output_type": "execute_result"
    }
   ],
   "source": [
    "buenos_markers[0]"
   ]
  },
  {
   "cell_type": "markdown",
   "metadata": {},
   "source": [
    "Recall our `neighborhoods` list from above.  The coordinates in the markers below match the neighborhoods in our `neighborhoods` list, respectively."
   ]
  },
  {
   "cell_type": "code",
   "execution_count": 20,
   "metadata": {},
   "outputs": [],
   "source": [
    "neighborhoods = ['Palermo', 'Ricoleta', 'Santelmo', 'Puerto Madero', 'Belgrano', 'La Boca']\n",
    "marker_one = folium.Marker([-34.5711, -58.4233], popup=\"Palermo\")\n",
    "marker_two = folium.Marker([-34.5895, -58.3974], popup='Ricoleta')\n",
    "marker_three = folium.Marker([-34.6212, -58.3731], popup='Santelmo')\n",
    "marker_four = folium.Marker([-34.6177, -58.3621], popup='Puerto Madero')\n",
    "marker_five = folium.Marker([-34.603722,  -58.381592], popup='Belgrano')\n",
    "marker_six = folium.Marker([-34.6345, -58.3631], popup='La Boca')\n",
    "neighborhood_markers = [marker_one, marker_two, marker_three, marker_four, marker_five, marker_six]"
   ]
  },
  {
   "cell_type": "markdown",
   "metadata": {},
   "source": [
    "Assign `la_boca_marker` equal to the last marker."
   ]
  },
  {
   "cell_type": "code",
   "execution_count": 21,
   "metadata": {},
   "outputs": [
    {
     "data": {
      "text/plain": [
       "[<folium.map.Marker at 0x7fd0a53f2198>,\n",
       " <folium.map.Marker at 0x7fd07c50beb8>,\n",
       " <folium.map.Marker at 0x7fd07c3f3978>,\n",
       " <folium.map.Marker at 0x7fd07c3f3ac8>,\n",
       " <folium.map.Marker at 0x7fd07c3f3c18>,\n",
       " <folium.map.Marker at 0x7fd07c3f3d68>,\n",
       " <folium.map.Marker at 0x7fd07c3f3d68>]"
      ]
     },
     "execution_count": 21,
     "metadata": {},
     "output_type": "execute_result"
    }
   ],
   "source": [
    "la_boca_marker = marker_six\n",
    "neighborhood_markers.append(la_boca_marker)\n",
    "neighborhood_markers\n"
   ]
  },
  {
   "cell_type": "markdown",
   "metadata": {},
   "source": [
    "Below, we will rewrite `buenos_map` variable to create a new map of Buenos Aires, but this time we will add `la_boca_marker` to the map and zoom in a bit using the `zoom_start` attribute."
   ]
  },
  {
   "cell_type": "code",
   "execution_count": 22,
   "metadata": {},
   "outputs": [
    {
     "data": {
      "text/html": [
       "<div style=\"width:100%;\"><div style=\"position:relative;width:100%;height:0;padding-bottom:60%;\"><iframe src=\"data:text/html;charset=utf-8;base64,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\" style=\"position:absolute;width:100%;height:100%;left:0;top:0;border:none !important;\" allowfullscreen webkitallowfullscreen mozallowfullscreen></iframe></div></div>"
      ],
      "text/plain": [
       "<folium.folium.Map at 0x7fd07c3ea9e8>"
      ]
     },
     "execution_count": 22,
     "metadata": {},
     "output_type": "execute_result"
    }
   ],
   "source": [
    "import folium\n",
    "buenos_map = folium.Map([ba_latitude, ba_longitude], zoom_start = 12)\n",
    "[x.add_to(buenos_map) for x in neighborhood_markers]\n",
    "buenos_map"
   ]
  },
  {
   "cell_type": "markdown",
   "metadata": {},
   "source": [
    "Now that we plotted `la_boca_marker` we don't need the marker anymore.  So, let's remove this last element from our `neighborhood_markers` list."
   ]
  },
  {
   "cell_type": "code",
   "execution_count": 23,
   "metadata": {},
   "outputs": [
    {
     "data": {
      "text/plain": [
       "<function list.pop>"
      ]
     },
     "execution_count": 23,
     "metadata": {},
     "output_type": "execute_result"
    }
   ],
   "source": [
    "neighborhood_markers.pop"
   ]
  },
  {
   "cell_type": "code",
   "execution_count": 24,
   "metadata": {},
   "outputs": [
    {
     "name": "stdout",
     "output_type": "stream",
     "text": [
      "7\n",
      "False\n"
     ]
    }
   ],
   "source": [
    "print(len(neighborhood_markers)) # 5\n",
    "print(neighborhood_markers[-1] == marker_five) # True"
   ]
  },
  {
   "cell_type": "markdown",
   "metadata": {},
   "source": [
    "Now assign `recoleta_marker` to the second marker in the `neighborhood_markers` list.  This time, we won't reassign our `buenos_map` so we should expect both `la_boca_marker` and `recoleta_marker` to appear!"
   ]
  },
  {
   "cell_type": "code",
   "execution_count": 25,
   "metadata": {},
   "outputs": [],
   "source": [
    "recoleta_marker = marker_two"
   ]
  },
  {
   "cell_type": "code",
   "execution_count": 26,
   "metadata": {},
   "outputs": [
    {
     "data": {
      "text/html": [
       "<div style=\"width:100%;\"><div style=\"position:relative;width:100%;height:0;padding-bottom:60%;\"><iframe src=\"data:text/html;charset=utf-8;base64,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\" style=\"position:absolute;width:100%;height:100%;left:0;top:0;border:none !important;\" allowfullscreen webkitallowfullscreen mozallowfullscreen></iframe></div></div>"
      ],
      "text/plain": [
       "<folium.folium.Map at 0x7fd07c3ea9e8>"
      ]
     },
     "execution_count": 26,
     "metadata": {},
     "output_type": "execute_result"
    }
   ],
   "source": [
    "recoleta_marker.add_to(buenos_map)\n",
    "buenos_map"
   ]
  },
  {
   "cell_type": "markdown",
   "metadata": {},
   "source": [
    "Don't worry if this feels tedious and manual. When we get up to loops in Python, we will see how to easily plot all of the markers in our list."
   ]
  },
  {
   "cell_type": "code",
   "execution_count": 27,
   "metadata": {},
   "outputs": [
    {
     "data": {
      "text/html": [
       "<div style=\"width:100%;\"><div style=\"position:relative;width:100%;height:0;padding-bottom:60%;\"><iframe src=\"data:text/html;charset=utf-8;base64,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\" style=\"position:absolute;width:100%;height:100%;left:0;top:0;border:none !important;\" allowfullscreen webkitallowfullscreen mozallowfullscreen></iframe></div></div>"
      ],
      "text/plain": [
       "<folium.folium.Map at 0x7fd07c3ea9e8>"
      ]
     },
     "execution_count": 27,
     "metadata": {},
     "output_type": "execute_result"
    }
   ],
   "source": [
    "for marker in neighborhood_markers:\n",
    "    marker.add_to(buenos_map)\n",
    "buenos_map"
   ]
  },
  {
   "cell_type": "markdown",
   "metadata": {},
   "source": [
    "But that's a lesson for another day."
   ]
  },
  {
   "cell_type": "markdown",
   "metadata": {},
   "source": [
    "### Summary"
   ]
  },
  {
   "cell_type": "markdown",
   "metadata": {
    "collapsed": true
   },
   "source": [
    "In this lesson we saw how to select information from a list and then plot that information with maps.  We saw that lists can make good arguments to methods, as they represent an ordered collection of information, like latitude followed by longitude.  In just a few lessons we saw how to use Python to make visualizations with our data going forward."
   ]
  }
 ],
 "metadata": {
  "kernelspec": {
   "display_name": "Python 3",
   "language": "python",
   "name": "python3"
  },
  "language_info": {
   "codemirror_mode": {
    "name": "ipython",
    "version": 3
   },
   "file_extension": ".py",
   "mimetype": "text/x-python",
   "name": "python",
   "nbconvert_exporter": "python",
   "pygments_lexer": "ipython3",
   "version": "3.6.9"
  }
 },
 "nbformat": 4,
 "nbformat_minor": 2
}
